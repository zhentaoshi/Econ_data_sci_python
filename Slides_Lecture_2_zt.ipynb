{
 "cells": [
  {
   "cell_type": "markdown",
   "metadata": {
    "slideshow": {
     "slide_type": "slide"
    }
   },
   "source": [
    "# Lecture 2: Advanced Python\n",
    "## ECON5170 Computational Methods in Economics\n"
   ]
  },
  {
   "cell_type": "markdown",
   "metadata": {
    "slideshow": {
     "slide_type": "slide"
    }
   },
   "source": [
    "## Speed\n",
    "\n",
    "* Efficient computation in R.\n",
    "\n",
    "* R is a vector-oriented language. \n",
    "  * In most cases, vectorization speeds up computation.\n",
    "* Multiple CPUs for parallel execution\n",
    "  * Save time after optimizing the code for speed.\n"
   ]
  },
  {
   "cell_type": "markdown",
   "metadata": {
    "slideshow": {
     "slide_type": "slide"
    }
   },
   "source": [
    "## Vectorization\n",
    "\n",
    "* Mathematical equivalence $\\neq$ computation equivalence\n",
    "\n",
    "* Speed matter in\n",
    "  * Structural estimation\n",
    "  * Big data\n",
    "  * Simulations\n",
    "  * Hyper parameter tuning\n",
    "\n"
   ]
  },
  {
   "cell_type": "markdown",
   "metadata": {
    "slideshow": {
     "slide_type": "subslide"
    }
   },
   "source": [
    "* For example, @lin2020's preferred algorithm \n",
    "  * 8 hours on a 24-core = 192 core hours\n",
    "\n",
    "* Code optimization is essential for such problems.\n",
    "\n",
    "* Optimizing code takes human time.\n",
    "\n",
    "* Tradeoff between human time and computer time."
   ]
  },
  {
   "cell_type": "markdown",
   "metadata": {
    "slideshow": {
     "slide_type": "slide"
    }
   },
   "source": [
    "### Econometrics Example\n",
    "\n",
    "In OLS regression, under heteroskedasticity\n",
    "$\n",
    "\\sqrt{n}\\left(\\widehat{\\beta}-\\beta_{0}\\right)\\stackrel{d}{\\to}N\\left(0,E\\left[x_{i}x_{i}'\\right]^{-1}\\mathrm{var}\\left(x_{i}e_{i}\\right)E\\left[x_{i}x_{i}'\\right]^{-1}\\right)\n",
    "$\n",
    "where $\\mathrm{var}\\left(x_{i}e_{i}\\right)$ can be estimated by \n",
    "\n",
    "$$\n",
    "\\underset{\\mathrm{opt1}}{\\frac{1}{n}\\sum_{i=1}^{n}x_{i}x_{i}'\\widehat{e}_{i}^{2}}=\\underset{\\mathrm{opt2,3}}{\\frac{1}{n}X'DX}=\\underset{\\mathrm{opt 4}}{\\frac{1}{n}\\left(X'D^{1/2}\\right)\\left(D^{1/2}X\\right)}\n",
    "$$\n",
    "\n",
    "where $D$ is a diagonal matrix of $\\left(\\widehat{e}_{1}^{2},\\widehat{e}_{2,}^{2},\\ldots,\\widehat{e}_{n}^{2}\\right)$."
   ]
  },
  {
   "cell_type": "markdown",
   "metadata": {
    "slideshow": {
     "slide_type": "slide"
    }
   },
   "source": [
    "At least 4 mathematically equivalent ways:\n",
    "\n",
    "1. literally sum $\\hat{e}_i^2 x_i x_i'$  over $i=1,\\ldots,n$ one by one.\n",
    "2. $X' \\mathrm{diag}(\\hat{e}^2) X$, with a dense central matrix.\n",
    "3. $X' \\mathrm{diag}(\\hat{e}^2) X$, with a sparse central matrix.\n",
    "4. Do cross product to `X*e_hat`. It takes advantage of the element-by-element operation in R.\n"
   ]
  },
  {
   "cell_type": "code",
   "execution_count": 2,
   "metadata": {
    "slideshow": {
     "slide_type": "subslide"
    }
   },
   "outputs": [
    {
     "ename": "AttributeError",
     "evalue": "module 'pyarrow' has no attribute '__version__'",
     "output_type": "error",
     "traceback": [
      "\u001b[1;31m---------------------------------------------------------------------------\u001b[0m",
      "\u001b[1;31mAttributeError\u001b[0m                            Traceback (most recent call last)",
      "Cell \u001b[1;32mIn[2], line 2\u001b[0m\n\u001b[0;32m      1\u001b[0m \u001b[39mimport\u001b[39;00m \u001b[39mnumpy\u001b[39;00m \u001b[39mas\u001b[39;00m \u001b[39mnp\u001b[39;00m\n\u001b[1;32m----> 2\u001b[0m \u001b[39mimport\u001b[39;00m \u001b[39mpandas\u001b[39;00m \u001b[39mas\u001b[39;00m \u001b[39mpd\u001b[39;00m\n\u001b[0;32m      3\u001b[0m \u001b[39mfrom\u001b[39;00m \u001b[39mscipy\u001b[39;00m\u001b[39m.\u001b[39;00m\u001b[39msparse\u001b[39;00m \u001b[39mimport\u001b[39;00m csr_matrix \n\u001b[0;32m      4\u001b[0m \u001b[39mimport\u001b[39;00m \u001b[39mrandom\u001b[39;00m\n",
      "File \u001b[1;32mc:\\Users\\zhent\\anaconda3\\Lib\\site-packages\\pandas\\__init__.py:22\u001b[0m\n\u001b[0;32m     19\u001b[0m \u001b[39mdel\u001b[39;00m _hard_dependencies, _dependency, _missing_dependencies\n\u001b[0;32m     21\u001b[0m \u001b[39m# numpy compat\u001b[39;00m\n\u001b[1;32m---> 22\u001b[0m \u001b[39mfrom\u001b[39;00m \u001b[39mpandas\u001b[39;00m\u001b[39m.\u001b[39;00m\u001b[39mcompat\u001b[39;00m \u001b[39mimport\u001b[39;00m is_numpy_dev \u001b[39mas\u001b[39;00m _is_numpy_dev  \u001b[39m# pyright: ignore # noqa:F401\u001b[39;00m\n\u001b[0;32m     24\u001b[0m \u001b[39mtry\u001b[39;00m:\n\u001b[0;32m     25\u001b[0m     \u001b[39mfrom\u001b[39;00m \u001b[39mpandas\u001b[39;00m\u001b[39m.\u001b[39;00m\u001b[39m_libs\u001b[39;00m \u001b[39mimport\u001b[39;00m hashtable \u001b[39mas\u001b[39;00m _hashtable, lib \u001b[39mas\u001b[39;00m _lib, tslib \u001b[39mas\u001b[39;00m _tslib\n",
      "File \u001b[1;32mc:\\Users\\zhent\\anaconda3\\Lib\\site-packages\\pandas\\compat\\__init__.py:22\u001b[0m\n\u001b[0;32m     17\u001b[0m \u001b[39mfrom\u001b[39;00m \u001b[39mpandas\u001b[39;00m\u001b[39m.\u001b[39;00m\u001b[39m_typing\u001b[39;00m \u001b[39mimport\u001b[39;00m F\n\u001b[0;32m     18\u001b[0m \u001b[39mfrom\u001b[39;00m \u001b[39mpandas\u001b[39;00m\u001b[39m.\u001b[39;00m\u001b[39mcompat\u001b[39;00m\u001b[39m.\u001b[39;00m\u001b[39mnumpy\u001b[39;00m \u001b[39mimport\u001b[39;00m (\n\u001b[0;32m     19\u001b[0m     is_numpy_dev,\n\u001b[0;32m     20\u001b[0m     np_version_under1p21,\n\u001b[0;32m     21\u001b[0m )\n\u001b[1;32m---> 22\u001b[0m \u001b[39mfrom\u001b[39;00m \u001b[39mpandas\u001b[39;00m\u001b[39m.\u001b[39;00m\u001b[39mcompat\u001b[39;00m\u001b[39m.\u001b[39;00m\u001b[39mpyarrow\u001b[39;00m \u001b[39mimport\u001b[39;00m (\n\u001b[0;32m     23\u001b[0m     pa_version_under1p01,\n\u001b[0;32m     24\u001b[0m     pa_version_under2p0,\n\u001b[0;32m     25\u001b[0m     pa_version_under3p0,\n\u001b[0;32m     26\u001b[0m     pa_version_under4p0,\n\u001b[0;32m     27\u001b[0m     pa_version_under5p0,\n\u001b[0;32m     28\u001b[0m     pa_version_under6p0,\n\u001b[0;32m     29\u001b[0m     pa_version_under7p0,\n\u001b[0;32m     30\u001b[0m     pa_version_under8p0,\n\u001b[0;32m     31\u001b[0m     pa_version_under9p0,\n\u001b[0;32m     32\u001b[0m )\n\u001b[0;32m     34\u001b[0m \u001b[39mif\u001b[39;00m TYPE_CHECKING:\n\u001b[0;32m     35\u001b[0m     \u001b[39mimport\u001b[39;00m \u001b[39mlzma\u001b[39;00m\n",
      "File \u001b[1;32mc:\\Users\\zhent\\anaconda3\\Lib\\site-packages\\pandas\\compat\\pyarrow.py:10\u001b[0m\n\u001b[0;32m      7\u001b[0m \u001b[39mtry\u001b[39;00m:\n\u001b[0;32m      8\u001b[0m     \u001b[39mimport\u001b[39;00m \u001b[39mpyarrow\u001b[39;00m \u001b[39mas\u001b[39;00m \u001b[39mpa\u001b[39;00m\n\u001b[1;32m---> 10\u001b[0m     _pa_version \u001b[39m=\u001b[39m pa\u001b[39m.\u001b[39m__version__\n\u001b[0;32m     11\u001b[0m     _palv \u001b[39m=\u001b[39m Version(_pa_version)\n\u001b[0;32m     12\u001b[0m     pa_version_under1p01 \u001b[39m=\u001b[39m _palv \u001b[39m<\u001b[39m Version(\u001b[39m\"\u001b[39m\u001b[39m1.0.1\u001b[39m\u001b[39m\"\u001b[39m)\n",
      "\u001b[1;31mAttributeError\u001b[0m: module 'pyarrow' has no attribute '__version__'"
     ]
    }
   ],
   "source": [
    "import numpy as np\n",
    "import pandas as pd\n",
    "from scipy.sparse import csr_matrix \n",
    "import random\n",
    "import datetime\n",
    "import math\n",
    "import statistics\n",
    "import matplotlib.pyplot as plt"
   ]
  },
  {
   "cell_type": "code",
   "execution_count": 3,
   "metadata": {
    "slideshow": {
     "slide_type": "slide"
    }
   },
   "outputs": [],
   "source": [
    "def lpm(n):\n",
    "    # estimation in a linear probability model\n",
    "\n",
    "    # set the parameters\n",
    "    b0 = np.array([-1, 1])\n",
    "\n",
    "    # generate the data\n",
    "    e = np.random.normal(size=n)\n",
    "    X = np.hstack((np.ones((n, 1)), np.random.normal(size=(n, 1))))\n",
    "    Y = (X @ b0 + e >= 0)\n",
    "\n",
    "    # OLS estimation\n",
    "    bhat = np.linalg.inv(X.T @ X) @ X.T @ Y\n",
    "\n",
    "    # calculate the t-value\n",
    "    bhat2 = bhat[1]  # parameter we want to test\n",
    "    e_hat = Y - X @ bhat\n",
    "    return X, e_hat\n"
   ]
  },
  {
   "cell_type": "markdown",
   "metadata": {
    "slideshow": {
     "slide_type": "slide"
    }
   },
   "source": [
    "We run the 4 estimators for the same data, and compare the time."
   ]
  },
  {
   "cell_type": "code",
   "execution_count": 6,
   "metadata": {
    "slideshow": {
     "slide_type": "fragment"
    }
   },
   "outputs": [
    {
     "name": "stdout",
     "output_type": "stream",
     "text": [
      "n = 5000 , Rep = 10 , opt = 1 , time = 1.2698514461517334 \n",
      "\n",
      "n = 5000 , Rep = 10 , opt = 2 , time = 2.802621841430664 \n",
      "\n",
      "n = 5000 , Rep = 10 , opt = 3 , time = 0.047385454177856445 \n",
      "\n",
      "n = 5000 , Rep = 10 , opt = 4 , time = 0.020370960235595703 \n",
      "\n"
     ]
    }
   ],
   "source": [
    "import time\n",
    "import numpy as np\n",
    "from scipy.sparse import diags\n",
    "\n",
    "# an example of robust variance matrix.\n",
    "# compare the implementation via matrix and vectorization.\n",
    "\n",
    "# n = 5000; Rep = 10 # large matrix\n",
    "\n",
    "n = 5000; Rep = 10 # small matrix\n",
    "\n",
    "\n",
    "\n",
    "for opt in range(1, 5):\n",
    "    pts0 = time.time()\n",
    "    \n",
    "    # initialize the matrix for computing the variance-covariance matrix\n",
    "    XXe2 = np.zeros((2, 2))\n",
    "\n",
    "    # loop over the replications and compute the variance-covariance matrix\n",
    "    for iter in range(Rep):\n",
    "        np.random.seed(iter)\n",
    "        data = lpm(n)\n",
    "        X = data[0]\n",
    "        e_hat = data[1]\n",
    "        # compute the variance-covariance matrix using element-by-element calculation\n",
    "        if opt == 1:\n",
    "            for i in range(n):\n",
    "                XXe2 += e_hat[i]**2 * np.matrix(X[i,]).T @ np.matrix(X[i,])\n",
    "        \n",
    "        # compute the variance-covariance matrix using matrix multiplication with dense matrices\n",
    "        elif opt == 2:\n",
    "            e_hat2_M = np.zeros((n, n))\n",
    "            np.fill_diagonal(e_hat2_M, e_hat**2)\n",
    "            XXe2 = np.matrix(X).T @ np.matrix(e_hat2_M) @ np.matrix(X)\n",
    "        \n",
    "        # compute the variance-covariance matrix using matrix multiplication with sparse matrices\n",
    "        elif opt == 3:\n",
    "            e_hat2_M = diags(e_hat**2, format='csr')\n",
    "            XXe2 = X.T @ e_hat2_M @ X\n",
    "        \n",
    "        # compute the variance-covariance matrix using vectorization with no waste\n",
    "        elif opt == 4:\n",
    "            e_hat = e_hat.reshape((-1, 1))\n",
    "            Xe = np.matrix(X).T * np.matrix(e_hat)\n",
    "            XXe2 = Xe @ Xe.T\n",
    "        \n",
    "        \n",
    "    print(\"n =\", n, \", Rep =\", Rep, \", opt =\", opt, \", time =\", time.time() - pts0, \"\\n\")\n"
   ]
  },
  {
   "cell_type": "markdown",
   "metadata": {
    "slideshow": {
     "slide_type": "slide"
    }
   },
   "source": [
    "* When $n$ is small\n",
    "  * `matrix` is fast\n",
    "  * `Matrix` is slow\n",
    "  * Vectorized version is the fastest.\n",
    "\n",
    "* When $n$ is big\n",
    "  * `matrix` is slow\n",
    "  * `Matrix` is fast\n",
    "  * Vectorized version is still the fastest."
   ]
  },
  {
   "cell_type": "markdown",
   "metadata": {
    "slideshow": {
     "slide_type": "slide"
    }
   },
   "source": [
    "## Efficient Loop"
   ]
  },
  {
   "cell_type": "markdown",
   "metadata": {
    "slideshow": {
     "slide_type": "slide"
    }
   },
   "source": [
    "\n",
    "### Example\n",
    "\n",
    "* Empirical coverage probability of a Poisson distribution\n",
    "* Write a DIY `CI` for confidence interval\n",
    "\n",
    "This is a standard `for` loop."
   ]
  },
  {
   "cell_type": "code",
   "execution_count": 3,
   "metadata": {
    "slideshow": {
     "slide_type": "fragment"
    }
   },
   "outputs": [],
   "source": [
    "import numpy as np\n",
    "import time\n",
    "\n",
    "def CI(x):\n",
    "    # x is a numpy array of random variables\n",
    "    n = len(x)\n",
    "    mu = np.mean(x)\n",
    "    sig = np.std(x)\n",
    "    upper = mu + 1.96 / np.sqrt(n) * sig\n",
    "    lower = mu - 1.96 / np.sqrt(n) * sig\n",
    "    return {\"lower\": lower, \"upper\": upper}"
   ]
  },
  {
   "cell_type": "markdown",
   "metadata": {
    "slideshow": {
     "slide_type": "slide"
    }
   },
   "source": [
    "## Parallel Computing\n",
    "\n",
    "Parallel computing becomes essential when the data size is beyond the storage of a single computer, for example  {% cite li2018embracing %}.\n",
    "Here we explore the speed gain of parallel computing on a multicore machine.\n",
    "\n",
    "Here we explore the speed gain of parallel computing on a multicore machine.\n",
    "\n",
    "The package `multiprocessing` is the choice for parallel computing in Python.\n",
    "Below is the basic structure. "
   ]
  },
  {
   "cell_type": "markdown",
   "metadata": {
    "slideshow": {
     "slide_type": "slide"
    }
   },
   "source": [
    "### Example\n",
    "\n",
    "* Two CPUs running simultaneously, in theory cut the time to a half of that on a single CPU\n",
    "\n",
    "* Compare the speed of a parallel loop and a single-core sequential loop."
   ]
  },
  {
   "cell_type": "code",
   "execution_count": 12,
   "metadata": {
    "slideshow": {
     "slide_type": "slide"
    }
   },
   "outputs": [
    {
     "name": "stdout",
     "output_type": "stream",
     "text": [
      "2-core parallel loop takes 19.011606454849243 seconds\n"
     ]
    }
   ],
   "source": [
    "\n",
    "from multiprocessing import Pool\n"
   ]
  },
  {
   "cell_type": "code",
   "execution_count": 4,
   "metadata": {},
   "outputs": [
    {
     "name": "stdout",
     "output_type": "stream",
     "text": [
      "4-core parallel loop takes 1.2228224277496338 seconds\n"
     ]
    }
   ],
   "source": [
    "from joblib import Parallel, delayed \n",
    "import time\n",
    "#Zhentao's version uses joblib\n",
    "\n",
    "def parallel_func(i):\n",
    "    # your function code here\n",
    "    # for example:\n",
    "    x = np.random.poisson(mu, size=sample_size)\n",
    "    bounds = CI(x)\n",
    "    return (bounds[\"lower\"] <= mu  <= bounds[\"upper\"])\n",
    "\n",
    "Rep = 200 # or whatever value you choose\n",
    "mu = 10 # or whatever value you choose\n",
    "sample_size = 20 # or whatever value you choose\n",
    "\n",
    "pts0 = time.time() # check time\n",
    "results = Parallel(n_jobs=4) \\\n",
    "    (delayed(parallel_func) (i) for i in range(Rep))\n",
    "\n",
    "print(\"4-core parallel loop takes\", time.time() - pts0 , \"seconds\")\n"
   ]
  },
  {
   "cell_type": "code",
   "execution_count": 5,
   "metadata": {
    "slideshow": {
     "slide_type": "slide"
    }
   },
   "outputs": [
    {
     "name": "stdout",
     "output_type": "stream",
     "text": [
      "single-core loop takes 0.0170133113861084 seconds\n"
     ]
    }
   ],
   "source": [
    "# single-core version\n",
    "pts0 = time.time()\n",
    "out = [parallel_func(i) for i in range(Rep)]\n",
    "print(\"single-core loop takes\", time.time() - pts0 , \"seconds\")"
   ]
  },
  {
   "cell_type": "markdown",
   "metadata": {
    "slideshow": {
     "slide_type": "fragment"
    }
   },
   "source": [
    "If we have two CPUs running simultaneously, in theory we can cut the time to a half of that on a single CPU. Is that what happening in practice?"
   ]
  },
  {
   "cell_type": "code",
   "execution_count": 26,
   "metadata": {
    "slideshow": {
     "slide_type": "fragment"
    }
   },
   "outputs": [
    {
     "name": "stdout",
     "output_type": "stream",
     "text": [
      "empirical coverage probability =  0.955 \n",
      "\n",
      "The the calculation time is: 0.17428827285766602 \n",
      "\n"
     ]
    }
   ],
   "source": [
    "Rep = 200\n",
    "sample_size = 2000\n",
    "mu = 2\n",
    "\n",
    "\n",
    "pts0 = time.time()  # check time\n",
    "\n",
    "def capture(i):\n",
    "    x = np.random.poisson(mu, sample_size)\n",
    "    bounds = CI(x)\n",
    "    return ((bounds['lower'] <= mu) & (mu <= bounds['upper']))\n",
    "\n",
    "# Only allows to run 4 processes at the time\n",
    "pool = mp.Pool(processes=4)\n",
    "\n",
    "# Initiate the multiprocess process wit apply()\n",
    "results = [pool.apply(capture, args=(i,)) for x in range(Rep)]\n",
    "\n",
    "print( \"empirical coverage probability = \", np.mean(results), \"\\n\") # empirical size\n",
    "pts1 = time.time() - pts0 # check time elapse\n",
    "print(\"The the calculation time is:\", pts1, \"\\n\")\n",
    "# print(results) "
   ]
  },
  {
   "cell_type": "markdown",
   "metadata": {
    "slideshow": {
     "slide_type": "slide"
    }
   },
   "source": [
    "## Remote Computing\n",
    "\n",
    "Investing money from our own pocket to an extremely powerful laptop to conduct heavy-lifting computational work\n",
    "is unnecessary. (i) We do not run these long jobs every day, it is more cost efficient\n",
    "to share a workhorse. (ii) We cannot keep our laptop always on when we move it\n",
    "around. The right solution is remote computing on a server.\n"
   ]
  },
  {
   "cell_type": "markdown",
   "metadata": {
    "slideshow": {
     "slide_type": "subslide"
    }
   },
   "source": [
    "\n",
    "No fundamental difference lies between local and remote computing.\n",
    "We prepare the data and code, open a shell for communication, run the code, and collect the results.\n",
    "One potential obstacle is dealing with a command-line-based operation system.\n",
    "Such command line tools is the norm of life two or three decades ago, but today we mostly\n",
    "work in a graphic operating system like Windows or OSX.\n",
    "For Windows users (I am one of them), I recommend [PuTTY](http://www.putty.org/), a shell, and [WinSCP](http://winscp.net/eng/download.php), a graphic interface for input and output.\n"
   ]
  },
  {
   "cell_type": "markdown",
   "metadata": {
    "slideshow": {
     "slide_type": "subslide"
    }
   },
   "source": [
    "Most servers in the world are running Unix/Linux operation system.\n",
    "Here are a few commands for basic operations.\n",
    "\n",
    "* mkdir\n",
    "* cd\n",
    "* copy\n",
    "* top\n",
    "* screen\n",
    "* ssh user@address\n",
    "* start a program\n"
   ]
  },
  {
   "cell_type": "markdown",
   "metadata": {
    "slideshow": {
     "slide_type": "slide"
    }
   },
   "source": [
    "Our department's computation infrastructure has been improving.\n",
    "A server dedicated to  professors is a 16-core machine. I have opened an account for you.\n",
    "You can try out this script on `econsuper`.\n",
    "\n",
    "1. Log in `econsuper.econ.cuhk.edu.hk`;\n",
    "2. Save the code block below as `loop_server.R`, and upload it to the server;\n",
    "3. In a shell, run `R --vanilla <loop_server.R> result_your_name.out`;\n",
    "4. To run a command in the background, add `&` at the end of the above command. To keep it running after closing the console, add `nohup` at the beginning of the command."
   ]
  }
 ],
 "metadata": {
  "celltoolbar": "Slideshow",
  "kernelspec": {
   "display_name": "Python 3 (ipykernel)",
   "language": "python",
   "name": "python3"
  },
  "language_info": {
   "codemirror_mode": {
    "name": "ipython",
    "version": 3
   },
   "file_extension": ".py",
   "mimetype": "text/x-python",
   "name": "python",
   "nbconvert_exporter": "python",
   "pygments_lexer": "ipython3",
   "version": "3.11.3"
  },
  "nteract": {
   "version": "0.15.0"
  },
  "rise": {
   "enable_chalkboard": true,
   "scroll": true,
   "theme": "serif"
  }
 },
 "nbformat": 4,
 "nbformat_minor": 2
}
