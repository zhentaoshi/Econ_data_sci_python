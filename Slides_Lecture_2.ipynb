{
 "cells": [
  {
   "cell_type": "markdown",
   "metadata": {
    "slideshow": {
     "slide_type": "slide"
    }
   },
   "source": [
    "# Lecture 2: Advanced Python\n",
    "## ECON5170 Computational Methods in Economics\n"
   ]
  },
  {
   "cell_type": "markdown",
   "metadata": {
    "slideshow": {
     "slide_type": "slide"
    }
   },
   "source": [
    "## Speed\n",
    "\n",
    "* Efficient computation in R.\n",
    "\n",
    "* R is a vector-oriented language. \n",
    "  * In most cases, vectorization speeds up computation.\n",
    "* Multiple CPUs for parallel execution\n",
    "  * Save time after optimizing the code for speed.\n"
   ]
  },
  {
   "cell_type": "markdown",
   "metadata": {
    "slideshow": {
     "slide_type": "slide"
    }
   },
   "source": [
    "## Vectorization\n",
    "\n",
    "* Mathematical equivalence $\\neq$ computation equivalence\n",
    "\n",
    "* Speed matter in\n",
    "  * Structural estimation\n",
    "  * Big data\n",
    "  * Simulations\n",
    "  * Hyper parameter tuning\n",
    "\n"
   ]
  },
  {
   "cell_type": "markdown",
   "metadata": {
    "slideshow": {
     "slide_type": "subslide"
    }
   },
   "source": [
    "* For example, @lin2020's preferred algorithm \n",
    "  * 8 hours on a 24-core = 192 core hours\n",
    "\n",
    "* Code optimization is essential for such problems.\n",
    "\n",
    "* Optimizing code takes human time.\n",
    "\n",
    "* Tradeoff between human time and computer time."
   ]
  },
  {
   "cell_type": "markdown",
   "metadata": {
    "slideshow": {
     "slide_type": "slide"
    }
   },
   "source": [
    "### Econometrics Example\n",
    "\n",
    "In OLS regression, under heteroskedasticity\n",
    "$\n",
    "\\sqrt{n}\\left(\\widehat{\\beta}-\\beta_{0}\\right)\\stackrel{d}{\\to}N\\left(0,E\\left[x_{i}x_{i}'\\right]^{-1}\\mathrm{var}\\left(x_{i}e_{i}\\right)E\\left[x_{i}x_{i}'\\right]^{-1}\\right)\n",
    "$\n",
    "where $\\mathrm{var}\\left(x_{i}e_{i}\\right)$ can be estimated by \n",
    "\n",
    "$$\n",
    "\\underset{\\mathrm{opt1}}{\\frac{1}{n}\\sum_{i=1}^{n}x_{i}x_{i}'\\widehat{e}_{i}^{2}}=\\underset{\\mathrm{opt2,3}}{\\frac{1}{n}X'DX}=\\underset{\\mathrm{opt 4}}{\\frac{1}{n}\\left(X'D^{1/2}\\right)\\left(D^{1/2}X\\right)}\n",
    "$$\n",
    "\n",
    "where $D$ is a diagonal matrix of $\\left(\\widehat{e}_{1}^{2},\\widehat{e}_{2,}^{2},\\ldots,\\widehat{e}_{n}^{2}\\right)$."
   ]
  },
  {
   "cell_type": "markdown",
   "metadata": {
    "slideshow": {
     "slide_type": "slide"
    }
   },
   "source": [
    "At least 4 mathematically equivalent ways:\n",
    "\n",
    "1. literally sum $\\hat{e}_i^2 x_i x_i'$  over $i=1,\\ldots,n$ one by one.\n",
    "2. $X' \\mathrm{diag}(\\hat{e}^2) X$, with a dense central matrix.\n",
    "3. $X' \\mathrm{diag}(\\hat{e}^2) X$, with a sparse central matrix.\n",
    "4. Do cross product to `X*e_hat`. It takes advantage of the element-by-element operation in R.\n"
   ]
  },
  {
   "cell_type": "code",
   "execution_count": 1,
   "metadata": {
    "slideshow": {
     "slide_type": "subslide"
    }
   },
   "outputs": [
    {
     "name": "stderr",
     "output_type": "stream",
     "text": [
      "Matplotlib created a temporary config/cache directory at /tmp/matplotlib-4yjgc0zc because the default path (/home/jovyan/.cache/matplotlib) is not a writable directory; it is highly recommended to set the MPLCONFIGDIR environment variable to a writable directory, in particular to speed up the import of Matplotlib and to better support multiprocessing.\n"
     ]
    }
   ],
   "source": [
    "import numpy as np\n",
    "import pandas as pd\n",
    "from scipy.sparse import csr_matrix \n",
    "import random\n",
    "import datetime\n",
    "import math\n",
    "import statistics\n",
    "import matplotlib.pyplot as plt"
   ]
  },
  {
   "cell_type": "code",
   "execution_count": 2,
   "metadata": {
    "slideshow": {
     "slide_type": "slide"
    }
   },
   "outputs": [],
   "source": [
    "def lpm(n):\n",
    "    # estimation in a linear probability model\n",
    "\n",
    "    # set the parameters\n",
    "    b0 = np.array([-1, 1])\n",
    "\n",
    "    # generate the data\n",
    "    e = np.random.normal(size=n)\n",
    "    X = np.hstack((np.ones((n, 1)), np.random.normal(size=(n, 1))))\n",
    "    Y = (X @ b0 + e >= 0)\n",
    "\n",
    "    # OLS estimation\n",
    "    bhat = np.linalg.inv(X.T @ X) @ X.T @ Y\n",
    "\n",
    "    # calculate the t-value\n",
    "    bhat2 = bhat[1]  # parameter we want to test\n",
    "    e_hat = Y - X @ bhat\n",
    "    return X, e_hat\n"
   ]
  },
  {
   "cell_type": "markdown",
   "metadata": {
    "slideshow": {
     "slide_type": "slide"
    }
   },
   "source": [
    "We run the 4 estimators for the same data, and compare the time."
   ]
  },
  {
   "cell_type": "code",
   "execution_count": 3,
   "metadata": {
    "slideshow": {
     "slide_type": "fragment"
    }
   },
   "outputs": [
    {
     "name": "stdout",
     "output_type": "stream",
     "text": [
      "n = 50 , Rep = 1000 , opt = 1 , time = 0.9605729579925537 \n",
      "\n",
      "n = 50 , Rep = 1000 , opt = 2 , time = 0.10442757606506348 \n",
      "\n",
      "n = 50 , Rep = 1000 , opt = 3 , time = 0.4029197692871094 \n",
      "\n",
      "n = 50 , Rep = 1000 , opt = 4 , time = 0.15856575965881348 \n",
      "\n"
     ]
    }
   ],
   "source": [
    "import time\n",
    "import numpy as np\n",
    "from scipy.sparse import diags\n",
    "\n",
    "# an example of robust variance matrix.\n",
    "# compare the implementation via matrix and vectorization.\n",
    "\n",
    "# n = 5000; Rep = 10 # large matrix\n",
    "\n",
    "n = 50; Rep = 1000 # small matrix\n",
    "\n",
    "\n",
    "\n",
    "for opt in range(1, 5):\n",
    "    pts0 = time.time()\n",
    "    \n",
    "    # initialize the matrix for computing the variance-covariance matrix\n",
    "    XXe2 = np.zeros((2, 2))\n",
    "\n",
    "    # loop over the replications and compute the variance-covariance matrix\n",
    "    for iter in range(Rep):\n",
    "        np.random.seed(iter)\n",
    "        data = lpm(n)\n",
    "        X = data[0]\n",
    "        e_hat = data[1]\n",
    "        # compute the variance-covariance matrix using element-by-element calculation\n",
    "        if opt == 1:\n",
    "            for i in range(n):\n",
    "                XXe2 += e_hat[i]**2 * np.matrix(X[i,]).T @ np.matrix(X[i,])\n",
    "        \n",
    "        # compute the variance-covariance matrix using matrix multiplication with dense matrices\n",
    "        elif opt == 2:\n",
    "            e_hat2_M = np.zeros((n, n))\n",
    "            np.fill_diagonal(e_hat2_M, e_hat**2)\n",
    "            XXe2 = np.matrix(X).T @ np.matrix(e_hat2_M) @ np.matrix(X)\n",
    "        \n",
    "        # compute the variance-covariance matrix using matrix multiplication with sparse matrices\n",
    "        elif opt == 3:\n",
    "            e_hat2_M = diags(e_hat**2, format='csr')\n",
    "            XXe2 = X.T @ e_hat2_M @ X\n",
    "        \n",
    "        # compute the variance-covariance matrix using vectorization with no waste\n",
    "        elif opt == 4:\n",
    "            e_hat = e_hat.reshape((-1, 1))\n",
    "            Xe = np.matrix(X).T * np.matrix(e_hat)\n",
    "            XXe2 = Xe @ Xe.T\n",
    "        \n",
    "        # compute the robust variance-covariance matrix using the sample size\n",
    "        XX_inv = np.linalg.inv(X.T @ X)\n",
    "        sig_B = XX_inv @ XXe2 @ XX_inv\n",
    "        \n",
    "    print(\"n =\", n, \", Rep =\", Rep, \", opt =\", opt, \", time =\", time.time() - pts0, \"\\n\")\n"
   ]
  },
  {
   "cell_type": "markdown",
   "metadata": {
    "slideshow": {
     "slide_type": "slide"
    }
   },
   "source": [
    "* When $n$ is small\n",
    "  * `matrix` is fast\n",
    "  * `Matrix` is slow\n",
    "  * Vectorized version is the fastest.\n",
    "\n",
    "* When $n$ is big\n",
    "  * `matrix` is slow\n",
    "  * `Matrix` is fast\n",
    "  * Vectorized version is still the fastest."
   ]
  },
  {
   "cell_type": "markdown",
   "metadata": {
    "slideshow": {
     "slide_type": "slide"
    }
   },
   "source": [
    "### Real-data example \n",
    "\n",
    "* `data_example/IPUMS.R` with 234 thousand observations\n",
    "*  Vectorization can significantly saves computing time in more complicated operations"
   ]
  },
  {
   "cell_type": "code",
   "execution_count": 2,
   "metadata": {
    "slideshow": {
     "slide_type": "subslide"
    }
   },
   "outputs": [],
   "source": [
    "import pandas as pd\n",
    "import numpy as np\n",
    "from sklearn.linear_model import LinearRegression\n",
    "\n",
    "# Read CSV files\n",
    "d99 = pd.read_csv(\"data_example/ipums.la.99.csv\", header=None)\n",
    "d98 = pd.read_csv(\"data_example/ipums.la.98.csv\", header=None)\n",
    "d97 = pd.read_csv(\"data_example/ipums.la.97.csv\", header=None)\n",
    "\n",
    "# Concatenate dataframes\n",
    "d0 = pd.concat([d97, d98, d99])\n",
    "\n",
    "# Create X matrix\n",
    "X = np.c_[np.ones(d0.shape[0]), d0[[20, 22]].values]\n",
    "\n",
    "# Create y vector\n",
    "y = d0[11].values\n",
    "\n",
    "# Perform linear regression\n",
    "reg = LinearRegression(fit_intercept=False)\n",
    "reg.fit(X, y)\n",
    "\n",
    "# Calculate predicted values\n",
    "y_pred = reg.predict(X)\n",
    "\n",
    "# Calculate residuals\n",
    "e_hat = y - y_pred\n",
    "\n",
    "# Get number of observations (n) and number of predictors (K)\n",
    "n = d0.shape[0]\n",
    "K = X.shape[1]\n",
    "\n"
   ]
  },
  {
   "cell_type": "code",
   "execution_count": 4,
   "metadata": {
    "slideshow": {
     "slide_type": "subslide"
    }
   },
   "outputs": [
    {
     "name": "stdout",
     "output_type": "stream",
     "text": [
      "outcome = [  41002.57302057  186902.08983748    5879.07973157  186902.08983748\n",
      " 1175914.30007041   35414.11305207    5879.07973157   35414.11305207\n",
      "   10269.50322852] , opt = 1 , time = 1.2031960487365723\n",
      "outcome = [  41002.57302058  186902.08983737    5879.07973157  186902.08983737\n",
      " 1175914.30006964   35414.11305207    5879.07973157   35414.11305207\n",
      "   10269.50322852] , opt = 3 , time = 0.011132478713989258\n",
      "outcome = [  41002.57302058  186902.08983737    5879.07973157  186902.08983737\n",
      " 1175914.30006964   35414.11305207    5879.07973157   35414.11305207\n",
      "   10269.50322852] , opt = 4 , time = 0.00201416015625\n"
     ]
    }
   ],
   "source": [
    "import numpy as np\n",
    "import time\n",
    "from scipy import sparse\n",
    "\n",
    "options = [1, 3, 4]\n",
    "K = X.shape[1]\n",
    "\n",
    "for opt in options:\n",
    "    pts0 = time.time()\n",
    "    XXe2 = np.zeros((K, K))\n",
    "    \n",
    "    if opt == 1:\n",
    "        for i in range(n):\n",
    "            XXe2 += e_hat[i]**2 * np.outer(X[i, :], X[i, :])\n",
    "    elif opt == 3:\n",
    "        e_hat2_M = sparse.diags(e_hat**2, 0, format='csr')\n",
    "        XXe2 = X.T @ e_hat2_M @ X\n",
    "    elif opt == 4:\n",
    "        Xe = X * e_hat[:, np.newaxis]\n",
    "        XXe2 = Xe.T @ Xe\n",
    "    \n",
    "    print(\"outcome =\", XXe2.flatten(), \", opt =\", opt, \", time =\", time.time() - pts0)\n"
   ]
  },
  {
   "cell_type": "markdown",
   "metadata": {
    "slideshow": {
     "slide_type": "slide"
    }
   },
   "source": [
    "## Efficient Loop\n",
    "\n",
    "* R evolves for big data\n",
    "* housekeeping is needed in `for` loops\n",
    "* `plyr` simplifies the job and facilitates parallelization."
   ]
  },
  {
   "cell_type": "markdown",
   "metadata": {
    "slideshow": {
     "slide_type": "slide"
    }
   },
   "source": [
    "\n",
    "### Example\n",
    "\n",
    "* Empirical coverage probability of a Poisson distribution\n",
    "* Write a DIY `CI` for confidence interval\n",
    "\n",
    "This is a standard `for` loop."
   ]
  },
  {
   "cell_type": "code",
   "execution_count": 2,
   "metadata": {
    "slideshow": {
     "slide_type": "fragment"
    }
   },
   "outputs": [],
   "source": [
    "import numpy as np\n",
    "import time\n",
    "\n",
    "def CI(x):\n",
    "    # x is a numpy array of random variables\n",
    "    n = len(x)\n",
    "    mu = np.mean(x)\n",
    "    sig = np.std(x)\n",
    "    upper = mu + 1.96 / np.sqrt(n) * sig\n",
    "    lower = mu - 1.96 / np.sqrt(n) * sig\n",
    "    return {\"lower\": lower, \"upper\": upper}"
   ]
  },
  {
   "cell_type": "markdown",
   "metadata": {
    "slideshow": {
     "slide_type": "slide"
    }
   },
   "source": [
    "This is a standard `for` loop."
   ]
  },
  {
   "cell_type": "code",
   "execution_count": 4,
   "metadata": {
    "slideshow": {
     "slide_type": "fragment"
    }
   },
   "outputs": [
    {
     "name": "stdout",
     "output_type": "stream",
     "text": [
      "loop without pre-definition takes 0.008306026458740234 seconds\n"
     ]
    }
   ],
   "source": [
    "Rep = 100 # or whatever value you choose\n",
    "sample_size = 100 # or whatever value you choose\n",
    "mu = 10 # or whatever value you choose\n",
    "\n",
    "np.random.seed(1) # set seed for reproducibility\n",
    "out = [] # initialize out as empty list\n",
    "pts0 = time.time() # check time\n",
    "\n",
    "for i in range(Rep):\n",
    "    x = np.random.poisson(mu, size=sample_size)\n",
    "    bounds = CI(x)\n",
    "    out.append((bounds[\"lower\"] <= mu) & (mu <= bounds[\"upper\"]))\n",
    "\n",
    "pts1 = time.time() - pts0 # check time elapsed\n",
    "print(\"loop without pre-definition takes\", pts1, \"seconds\")"
   ]
  },
  {
   "cell_type": "code",
   "execution_count": 5,
   "metadata": {
    "slideshow": {
     "slide_type": "slide"
    }
   },
   "outputs": [
    {
     "name": "stdout",
     "output_type": "stream",
     "text": [
      "loop with pre-definition takes 0.008758306503295898 seconds\n"
     ]
    }
   ],
   "source": [
    "import numpy as np\n",
    "import time\n",
    "\n",
    "\n",
    "Rep = 100 # or whatever value you choose\n",
    "sample_size = 10 # or whatever value you choose\n",
    "mu = 10 # or whatever value you choose\n",
    "\n",
    "np.random.seed(1) # set seed for reproducibility\n",
    "out = np.zeros(Rep, dtype=bool) # pre-define out with appropriate shape\n",
    "pts0 = time.time() # check time\n",
    "\n",
    "for i in range(Rep):\n",
    "    x = np.random.poisson(mu, size=sample_size)\n",
    "    bounds = CI(x)\n",
    "    out[i] = ((bounds[\"lower\"] <= mu) & (mu <= bounds[\"upper\"]))\n",
    "\n",
    "pts1 = time.time() - pts0 # check time elapsed\n",
    "print(\"loop with pre-definition takes\", pts1, \"seconds\")"
   ]
  },
  {
   "cell_type": "markdown",
   "metadata": {
    "slideshow": {
     "slide_type": "fragment"
    }
   },
   "source": [
    "* Memoery operates differently with or without the container"
   ]
  },
  {
   "cell_type": "markdown",
   "metadata": {
    "slideshow": {
     "slide_type": "slide"
    }
   },
   "source": [
    "## Parallel Computing\n",
    "\n",
    "Parallel computing becomes essential when the data size is beyond the storage of a single computer, for example  {% cite li2018embracing %}.\n",
    "Here we explore the speed gain of parallel computing on a multicore machine.\n",
    "\n",
    "Here we explore the speed gain of parallel computing on a multicore machine.\n",
    "\n",
    "The package `multiprocessing` is the choice for parallel computing in Python.\n",
    "Below is the basic structure. "
   ]
  },
  {
   "cell_type": "markdown",
   "metadata": {
    "slideshow": {
     "slide_type": "slide"
    }
   },
   "source": [
    "### Example\n",
    "\n",
    "* Two CPUs running simultaneously, in theory cut the time to a half of that on a single CPU\n",
    "\n",
    "* Compare the speed of a parallel loop and a single-core sequential loop."
   ]
  },
  {
   "cell_type": "code",
   "execution_count": 11,
   "metadata": {
    "slideshow": {
     "slide_type": "slide"
    }
   },
   "outputs": [
    {
     "name": "stdout",
     "output_type": "stream",
     "text": [
      "parallel loop takes 0.0038094520568847656 seconds\n"
     ]
    }
   ],
   "source": [
    "import time\n",
    "from multiprocessing import Pool\n",
    "import multiprocessing as mp\n",
    "\n",
    "def parallel_func(i):\n",
    "    # your function code here\n",
    "    # for example:\n",
    "    x = np.random.poisson(mu, size=sample_size)\n",
    "    bounds = CI(x)\n",
    "    return (bounds[\"lower\"] <= mu) & (mu <= bounds[\"upper\"])\n",
    "\n",
    "Rep = 100 # or whatever value you choose\n",
    "mu = 10 # or whatever value you choose\n",
    "sample_size = 10 # or whatever value you choose\n",
    "\n",
    "pool = Pool(2) # open 2 CPUs\n",
    "pts0 = time.time() # check time\n",
    "\n",
    "out = pool.map(parallel_func, range(Rep))\n",
    "\n",
    "pts1 = time.time() - pts0 # check time elapsed\n",
    "print(\"parallel loop takes\", pts1, \"seconds\")\n"
   ]
  },
  {
   "cell_type": "markdown",
   "metadata": {
    "slideshow": {
     "slide_type": "fragment"
    }
   },
   "source": [
    "* Surprisingly, parallel computing runs more slowly\n",
    "  * Each loop can be done in very short time."
   ]
  },
  {
   "cell_type": "code",
   "execution_count": 12,
   "metadata": {
    "slideshow": {
     "slide_type": "slide"
    }
   },
   "outputs": [
    {
     "name": "stdout",
     "output_type": "stream",
     "text": [
      "2-core parallel loop takes 19.011606454849243 seconds\n"
     ]
    }
   ],
   "source": [
    "import time\n",
    "from multiprocessing import Pool\n",
    "\n",
    "def parallel_func(i):\n",
    "    # your function code here\n",
    "    # for example:\n",
    "    x = np.random.poisson(mu, size=sample_size)\n",
    "    bounds = CI(x)\n",
    "    return (bounds[\"lower\"] <= mu) & (mu <= bounds[\"upper\"])\n",
    "\n",
    "Rep = 200 # or whatever value you choose\n",
    "mu = 10 # or whatever value you choose\n",
    "sample_size = 2000000 # or whatever value you choose\n",
    "\n",
    "# parallel version with 2 cores\n",
    "pool = Pool(2) # open 2 CPUs\n",
    "pts0 = time.time() # check time\n",
    "out = pool.map(parallel_func, range(Rep))\n",
    "print(\"2-core parallel loop takes\", time.time() - pts0 , \"seconds\")\n"
   ]
  },
  {
   "cell_type": "code",
   "execution_count": 13,
   "metadata": {
    "slideshow": {
     "slide_type": "slide"
    }
   },
   "outputs": [
    {
     "name": "stdout",
     "output_type": "stream",
     "text": [
      "single-core loop takes 36.475889682769775 seconds\n"
     ]
    }
   ],
   "source": [
    "\n",
    "# single-core version\n",
    "pts0 = time.time()\n",
    "out = [parallel_func(i) for i in range(Rep)]\n",
    "print(\"single-core loop takes\", time.time() - pts0 , \"seconds\")"
   ]
  },
  {
   "cell_type": "markdown",
   "metadata": {
    "slideshow": {
     "slide_type": "fragment"
    }
   },
   "source": [
    "If we have two CPUs running simultaneously, in theory we can cut the time to a half of that on a single CPU. Is that what happening in practice?"
   ]
  },
  {
   "cell_type": "markdown",
   "metadata": {
    "slideshow": {
     "slide_type": "slide"
    }
   },
   "source": [
    "### Multiprocessing with the `process` class"
   ]
  },
  {
   "cell_type": "code",
   "execution_count": 22,
   "metadata": {
    "slideshow": {
     "slide_type": "fragment"
    }
   },
   "outputs": [
    {
     "name": "stdout",
     "output_type": "stream",
     "text": [
      "The result: True\n",
      "The result: True\n",
      "The result: True\n",
      "The result: True\n",
      "The result: True\n",
      "The result: True\n",
      "The result: True\n",
      "The result: True\n",
      "The result: True\n",
      "The result: True\n",
      "[True, True, True, True, True, True, True, True, True, True]\n",
      "empirical coverage probability =  1.0 % \n",
      "\n",
      "The the calculation time is: 0.1193692684173584 \n",
      "\n"
     ]
    }
   ],
   "source": [
    "Rep = 10\n",
    "sample_size = 1000\n",
    "mu = 2\n",
    "\n",
    "import multiprocessing as mp\n",
    "from multiprocessing import Pool\n",
    "from multiprocessing import Process\n",
    "\n",
    "\n",
    "def capture(i,return_dict):\n",
    "    np.random.seed(i)\n",
    "    x = np.random.poisson(mu, sample_size)\n",
    "    bounds = CI(x)\n",
    "    result = ((bounds['lower'] <= mu) & (mu <= bounds['upper']))\n",
    "    # process_id = os.getpid()\n",
    "    # print(\"Process ID: \" + str(process_id))\n",
    "    print(\"The result: \" + str(result))\n",
    "    return_dict[i]=result\n",
    "\n",
    "pts0 = time.time() # check time\n",
    "\n",
    "manager = mp.Manager()\n",
    "return_dict = manager.dict()\n",
    "jobs = []\n",
    "\n",
    "for i in range(Rep):\n",
    "    p = Process(target=capture, args=(i,return_dict))\n",
    "    jobs.append(p)\n",
    "    p.start()\n",
    "\n",
    "for proc in jobs:\n",
    "    proc.join()\n",
    "\n",
    "print(return_dict.values())\n",
    "\n",
    "stat_cover = np.mean(return_dict.values()) # jobs.count(True)/Rep*100\n",
    "\n",
    "print( \"empirical coverage probability = \", stat_cover, \"% \\n\") # empirical size\n",
    "pts1 = time.time() - pts0 # check time elapse\n",
    "print(\"The the calculation time is:\", pts1, \"\\n\")"
   ]
  },
  {
   "cell_type": "markdown",
   "metadata": {
    "slideshow": {
     "slide_type": "slide"
    }
   },
   "source": [
    "### Multiprocessing with the `pool` class & `apply()`"
   ]
  },
  {
   "cell_type": "code",
   "execution_count": 26,
   "metadata": {
    "slideshow": {
     "slide_type": "fragment"
    }
   },
   "outputs": [
    {
     "name": "stdout",
     "output_type": "stream",
     "text": [
      "empirical coverage probability =  0.955 \n",
      "\n",
      "The the calculation time is: 0.17428827285766602 \n",
      "\n"
     ]
    }
   ],
   "source": [
    "Rep = 200\n",
    "sample_size = 2000\n",
    "mu = 2\n",
    "\n",
    "\n",
    "pts0 = time.time()  # check time\n",
    "\n",
    "def capture(i):\n",
    "    x = np.random.poisson(mu, sample_size)\n",
    "    bounds = CI(x)\n",
    "    return ((bounds['lower'] <= mu) & (mu <= bounds['upper']))\n",
    "\n",
    "# Only allows to run 4 processes at the time\n",
    "pool = mp.Pool(processes=4)\n",
    "\n",
    "# Initiate the multiprocess process wit apply()\n",
    "results = [pool.apply(capture, args=(i,)) for x in range(Rep)]\n",
    "\n",
    "print( \"empirical coverage probability = \", np.mean(results), \"\\n\") # empirical size\n",
    "pts1 = time.time() - pts0 # check time elapse\n",
    "print(\"The the calculation time is:\", pts1, \"\\n\")\n",
    "# print(results) "
   ]
  },
  {
   "cell_type": "markdown",
   "metadata": {
    "slideshow": {
     "slide_type": "slide"
    }
   },
   "source": [
    "### Multiprocessing with the `pool` class & `map()`"
   ]
  },
  {
   "cell_type": "code",
   "execution_count": 28,
   "metadata": {
    "slideshow": {
     "slide_type": "fragment"
    }
   },
   "outputs": [
    {
     "name": "stdout",
     "output_type": "stream",
     "text": [
      "empirical coverage probability =  94.5 \n",
      "\n",
      "The the calculation time is: 0.035188913345336914 \n",
      "\n"
     ]
    }
   ],
   "source": [
    "Rep = 200\n",
    "sample_size = 2000\n",
    "mu = 2\n",
    "\n",
    "pts0 = time.time()  # check time\n",
    "def capture(i):\n",
    "    x = np.random.poisson(mu, sample_size)\n",
    "    bounds = CI(x)\n",
    "    return ((bounds['lower'] <= mu) & (mu <= bounds['upper']))\n",
    "    \n",
    "# Only allows to run 4 processes at the time\n",
    "pool = mp.Pool(processes=4)\n",
    "\n",
    "# Initiate the multiprocess process with the map()\n",
    "results = pool.map(capture, range(Rep), )\n",
    "\n",
    "print( \"empirical coverage probability = \", results.count(True)/Rep*100, \"\\n\") # empirical size\n",
    "pts1 = time.time() - pts0 # check time elapse\n",
    "print(\"The the calculation time is:\", pts1, \"\\n\")\n",
    "# print(results) "
   ]
  },
  {
   "cell_type": "markdown",
   "metadata": {
    "slideshow": {
     "slide_type": "slide"
    }
   },
   "source": [
    "## Remote Computing\n",
    "\n",
    "Investing money from our own pocket to an extremely powerful laptop to conduct heavy-lifting computational work\n",
    "is unnecessary. (i) We do not run these long jobs every day, it is more cost efficient\n",
    "to share a workhorse. (ii) We cannot keep our laptop always on when we move it\n",
    "around. The right solution is remote computing on a server.\n"
   ]
  },
  {
   "cell_type": "markdown",
   "metadata": {
    "slideshow": {
     "slide_type": "subslide"
    }
   },
   "source": [
    "\n",
    "No fundamental difference lies between local and remote computing.\n",
    "We prepare the data and code, open a shell for communication, run the code, and collect the results.\n",
    "One potential obstacle is dealing with a command-line-based operation system.\n",
    "Such command line tools is the norm of life two or three decades ago, but today we mostly\n",
    "work in a graphic operating system like Windows or OSX.\n",
    "For Windows users (I am one of them), I recommend [PuTTY](http://www.putty.org/), a shell, and [WinSCP](http://winscp.net/eng/download.php), a graphic interface for input and output.\n"
   ]
  },
  {
   "cell_type": "markdown",
   "metadata": {
    "slideshow": {
     "slide_type": "subslide"
    }
   },
   "source": [
    "Most servers in the world are running Unix/Linux operation system.\n",
    "Here are a few commands for basic operations.\n",
    "\n",
    "* mkdir\n",
    "* cd\n",
    "* copy\n",
    "* top\n",
    "* screen\n",
    "* ssh user@address\n",
    "* start a program\n"
   ]
  },
  {
   "cell_type": "markdown",
   "metadata": {
    "slideshow": {
     "slide_type": "slide"
    }
   },
   "source": [
    "Our department's computation infrastructure has been improving.\n",
    "A server dedicated to  professors is a 16-core machine. I have opened an account for you.\n",
    "You can try out this script on `econsuper`.\n",
    "\n",
    "1. Log in `econsuper.econ.cuhk.edu.hk`;\n",
    "2. Save the code block below as `loop_server.R`, and upload it to the server;\n",
    "3. In a shell, run `R --vanilla <loop_server.R> result_your_name.out`;\n",
    "4. To run a command in the background, add `&` at the end of the above command. To keep it running after closing the console, add `nohup` at the beginning of the command."
   ]
  }
 ],
 "metadata": {
  "celltoolbar": "Slideshow",
  "kernelspec": {
   "display_name": "Python 3 (ipykernel)",
   "language": "python",
   "name": "python3"
  },
  "language_info": {
   "codemirror_mode": {
    "name": "ipython",
    "version": 3
   },
   "file_extension": ".py",
   "mimetype": "text/x-python",
   "name": "python",
   "nbconvert_exporter": "python",
   "pygments_lexer": "ipython3",
   "version": "3.10.9"
  },
  "nteract": {
   "version": "0.15.0"
  },
  "rise": {
   "enable_chalkboard": true,
   "scroll": true,
   "theme": "serif"
  }
 },
 "nbformat": 4,
 "nbformat_minor": 2
}
